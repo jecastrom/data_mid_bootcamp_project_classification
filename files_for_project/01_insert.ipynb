{
 "cells": [
  {
   "cell_type": "markdown",
   "id": "2ceddfb0",
   "metadata": {},
   "source": [
    "## Data Ingestion from the CSV file of the air quality dataset to InfluxDB on AWS EC2"
   ]
  },
  {
   "cell_type": "code",
   "execution_count": 141,
   "id": "db1aea13",
   "metadata": {},
   "outputs": [],
   "source": [
    "import pandas as pd\n",
    "import datetime as dt\n",
    "from numpy import float64\n",
    "import matplotlib.pyplot as plt\n",
    "import seaborn as sns\n",
    "\n",
    "# Import the new influxdb API client\n",
    "import influxdb_client\n",
    "from influxdb_client.client.write_api import SYNCHRONOUS\n",
    "\n",
    "# Read the csv into a dataframe\n",
    "df = pd.read_csv(\"data/PRSA_Data_Dingling_20130301-20170228.csv\")"
   ]
  },
  {
   "cell_type": "code",
   "execution_count": 142,
   "id": "59b4b136",
   "metadata": {},
   "outputs": [
    {
     "data": {
      "text/html": [
       "<div>\n",
       "<style scoped>\n",
       "    .dataframe tbody tr th:only-of-type {\n",
       "        vertical-align: middle;\n",
       "    }\n",
       "\n",
       "    .dataframe tbody tr th {\n",
       "        vertical-align: top;\n",
       "    }\n",
       "\n",
       "    .dataframe thead th {\n",
       "        text-align: right;\n",
       "    }\n",
       "</style>\n",
       "<table border=\"1\" class=\"dataframe\">\n",
       "  <thead>\n",
       "    <tr style=\"text-align: right;\">\n",
       "      <th></th>\n",
       "      <th>No</th>\n",
       "      <th>year</th>\n",
       "      <th>month</th>\n",
       "      <th>day</th>\n",
       "      <th>hour</th>\n",
       "      <th>PM2.5</th>\n",
       "      <th>PM10</th>\n",
       "      <th>SO2</th>\n",
       "      <th>NO2</th>\n",
       "      <th>CO</th>\n",
       "      <th>O3</th>\n",
       "      <th>TEMP</th>\n",
       "      <th>PRES</th>\n",
       "      <th>DEWP</th>\n",
       "      <th>RAIN</th>\n",
       "      <th>wd</th>\n",
       "      <th>WSPM</th>\n",
       "      <th>station</th>\n",
       "    </tr>\n",
       "  </thead>\n",
       "  <tbody>\n",
       "    <tr>\n",
       "      <th>0</th>\n",
       "      <td>1</td>\n",
       "      <td>2013</td>\n",
       "      <td>3</td>\n",
       "      <td>1</td>\n",
       "      <td>0</td>\n",
       "      <td>4.0</td>\n",
       "      <td>4.0</td>\n",
       "      <td>3.0</td>\n",
       "      <td>NaN</td>\n",
       "      <td>200.0</td>\n",
       "      <td>82.0</td>\n",
       "      <td>-2.3</td>\n",
       "      <td>1020.8</td>\n",
       "      <td>-19.7</td>\n",
       "      <td>0.0</td>\n",
       "      <td>E</td>\n",
       "      <td>0.5</td>\n",
       "      <td>Dingling</td>\n",
       "    </tr>\n",
       "    <tr>\n",
       "      <th>1</th>\n",
       "      <td>2</td>\n",
       "      <td>2013</td>\n",
       "      <td>3</td>\n",
       "      <td>1</td>\n",
       "      <td>1</td>\n",
       "      <td>7.0</td>\n",
       "      <td>7.0</td>\n",
       "      <td>3.0</td>\n",
       "      <td>NaN</td>\n",
       "      <td>200.0</td>\n",
       "      <td>80.0</td>\n",
       "      <td>-2.5</td>\n",
       "      <td>1021.3</td>\n",
       "      <td>-19.0</td>\n",
       "      <td>0.0</td>\n",
       "      <td>ENE</td>\n",
       "      <td>0.7</td>\n",
       "      <td>Dingling</td>\n",
       "    </tr>\n",
       "    <tr>\n",
       "      <th>2</th>\n",
       "      <td>3</td>\n",
       "      <td>2013</td>\n",
       "      <td>3</td>\n",
       "      <td>1</td>\n",
       "      <td>2</td>\n",
       "      <td>5.0</td>\n",
       "      <td>5.0</td>\n",
       "      <td>3.0</td>\n",
       "      <td>2.0</td>\n",
       "      <td>200.0</td>\n",
       "      <td>79.0</td>\n",
       "      <td>-3.0</td>\n",
       "      <td>1021.3</td>\n",
       "      <td>-19.9</td>\n",
       "      <td>0.0</td>\n",
       "      <td>ENE</td>\n",
       "      <td>0.2</td>\n",
       "      <td>Dingling</td>\n",
       "    </tr>\n",
       "    <tr>\n",
       "      <th>3</th>\n",
       "      <td>4</td>\n",
       "      <td>2013</td>\n",
       "      <td>3</td>\n",
       "      <td>1</td>\n",
       "      <td>3</td>\n",
       "      <td>6.0</td>\n",
       "      <td>6.0</td>\n",
       "      <td>3.0</td>\n",
       "      <td>NaN</td>\n",
       "      <td>200.0</td>\n",
       "      <td>79.0</td>\n",
       "      <td>-3.6</td>\n",
       "      <td>1021.8</td>\n",
       "      <td>-19.1</td>\n",
       "      <td>0.0</td>\n",
       "      <td>NNE</td>\n",
       "      <td>1.0</td>\n",
       "      <td>Dingling</td>\n",
       "    </tr>\n",
       "    <tr>\n",
       "      <th>4</th>\n",
       "      <td>5</td>\n",
       "      <td>2013</td>\n",
       "      <td>3</td>\n",
       "      <td>1</td>\n",
       "      <td>4</td>\n",
       "      <td>5.0</td>\n",
       "      <td>5.0</td>\n",
       "      <td>3.0</td>\n",
       "      <td>NaN</td>\n",
       "      <td>200.0</td>\n",
       "      <td>81.0</td>\n",
       "      <td>-3.5</td>\n",
       "      <td>1022.3</td>\n",
       "      <td>-19.4</td>\n",
       "      <td>0.0</td>\n",
       "      <td>N</td>\n",
       "      <td>2.1</td>\n",
       "      <td>Dingling</td>\n",
       "    </tr>\n",
       "  </tbody>\n",
       "</table>\n",
       "</div>"
      ],
      "text/plain": [
       "   No  year  month  day  hour  PM2.5  PM10  SO2  NO2     CO    O3  TEMP  \\\n",
       "0   1  2013      3    1     0    4.0   4.0  3.0  NaN  200.0  82.0  -2.3   \n",
       "1   2  2013      3    1     1    7.0   7.0  3.0  NaN  200.0  80.0  -2.5   \n",
       "2   3  2013      3    1     2    5.0   5.0  3.0  2.0  200.0  79.0  -3.0   \n",
       "3   4  2013      3    1     3    6.0   6.0  3.0  NaN  200.0  79.0  -3.6   \n",
       "4   5  2013      3    1     4    5.0   5.0  3.0  NaN  200.0  81.0  -3.5   \n",
       "\n",
       "     PRES  DEWP  RAIN   wd  WSPM   station  \n",
       "0  1020.8 -19.7   0.0    E   0.5  Dingling  \n",
       "1  1021.3 -19.0   0.0  ENE   0.7  Dingling  \n",
       "2  1021.3 -19.9   0.0  ENE   0.2  Dingling  \n",
       "3  1021.8 -19.1   0.0  NNE   1.0  Dingling  \n",
       "4  1022.3 -19.4   0.0    N   2.1  Dingling  "
      ]
     },
     "execution_count": 142,
     "metadata": {},
     "output_type": "execute_result"
    }
   ],
   "source": [
    "df.head()"
   ]
  },
  {
   "cell_type": "code",
   "execution_count": 143,
   "id": "06777c74",
   "metadata": {},
   "outputs": [
    {
     "data": {
      "text/plain": [
       "<Figure size 720x432 with 0 Axes>"
      ]
     },
     "metadata": {},
     "output_type": "display_data"
    },
    {
     "data": {
      "image/png": "[encoded data removed]",
      "text/plain": [
       "<Figure size 511.25x360 with 1 Axes>"
      ]
     },
     "metadata": {
      "needs_background": "light"
     },
     "output_type": "display_data"
    }
   ],
   "source": [
    "# Identify missing values\n",
    "plt.figure(figsize=(10,6))\n",
    "sns.displot(\n",
    "    data=df.isna().melt(value_name=\"missing\"),\n",
    "    y=\"variable\",\n",
    "    hue=\"missing\",\n",
    "    multiple=\"fill\",\n",
    "    aspect=1.25\n",
    "    )\n",
    "plt.savefig(\"visualizing_missing_data_with_barplot_Seaborn_distplot.png\", dpi=100)\n"
   ]
  },
  {
   "cell_type": "code",
   "execution_count": 144,
   "id": "07c5fc21",
   "metadata": {},
   "outputs": [
    {
     "data": {
      "text/plain": [
       "Text(0.5, 1.0, 'Quantifying missing data')"
      ]
     },
     "execution_count": 144,
     "metadata": {},
     "output_type": "execute_result"
    },
    {
     "data": {
      "image/png": "[encoded data removed]",
      "text/plain": [
       "<Figure size 864x432 with 1 Axes>"
      ]
     },
     "metadata": {
      "needs_background": "light"
     },
     "output_type": "display_data"
    }
   ],
   "source": [
    "df.isnull().mean().plot.bar(figsize=(12,6))\n",
    "plt.ylabel('Percentage of missing values')\n",
    "plt.xlabel('Variables')\n",
    "plt.title('Quantifying missing data')"
   ]
  },
  {
   "cell_type": "code",
   "execution_count": 145,
   "id": "29a33c84",
   "metadata": {},
   "outputs": [],
   "source": [
    "df.dropna(axis=0, how='any', inplace=True)"
   ]
  },
  {
   "cell_type": "code",
   "execution_count": 146,
   "id": "0dee39b8",
   "metadata": {},
   "outputs": [
    {
     "data": {
      "text/plain": [
       "Text(0.5, 1.0, 'Quantifying missing data')"
      ]
     },
     "execution_count": 146,
     "metadata": {},
     "output_type": "execute_result"
    },
    {
     "data": {
      "image/png": "[encoded data removed]",
      "text/plain": [
       "<Figure size 864x432 with 1 Axes>"
      ]
     },
     "metadata": {
      "needs_background": "light"
     },
     "output_type": "display_data"
    }
   ],
   "source": [
    "df.isnull().mean().plot.bar(figsize=(12,6))\n",
    "plt.ylabel('Percentage of missing values')\n",
    "plt.xlabel('Variables')\n",
    "plt.title('Quantifying missing data')"
   ]
  },
  {
   "cell_type": "code",
   "execution_count": 147,
   "id": "e909fe85",
   "metadata": {},
   "outputs": [],
   "source": [
    "# As there is no timestamp on the dataset, only 4 separate column\n",
    "# I am creating a timestamp out of the four columns\n",
    "# needed for influx 2020-01-01T00:00:00.00Z\n",
    "# lambda s : dt.datetime(*s) takes every row and convert them -> *s\n",
    "# strftime to reformat the string into influxdb timestamp format\n",
    "df['TimeStamp'] = df[['year', 'month', 'day', 'hour']].apply(\n",
    "    lambda s: dt.datetime(*s).strftime('%Y-%m-%dT%H:%M:%SZ'), axis=1)"
   ]
  },
  {
   "cell_type": "code",
   "execution_count": 148,
   "id": "3357f58f",
   "metadata": {},
   "outputs": [],
   "source": [
    "# setting the timestamp as the index of the dataframe\n",
    "df.set_index('TimeStamp', inplace=True)"
   ]
  },
  {
   "cell_type": "code",
   "execution_count": 149,
   "id": "c63bc193",
   "metadata": {},
   "outputs": [],
   "source": [
    "# dropping the year, month, day, hour, No from the dataframe\n",
    "converted_ts = df.drop(['year', 'month', 'day', 'hour', 'No'], axis=1)"
   ]
  },
  {
   "cell_type": "code",
   "execution_count": 150,
   "id": "05ee8657",
   "metadata": {},
   "outputs": [
    {
     "name": "stdout",
     "output_type": "stream",
     "text": [
      "                      PM2.5  PM10  SO2  NO2     CO     O3  TEMP    PRES  DEWP  \\\n",
      "TimeStamp                                                                       \n",
      "2013-03-01T02:00:00Z    5.0   5.0  3.0  2.0  200.0   79.0  -3.0  1021.3 -19.9   \n",
      "2013-03-01T05:00:00Z    6.0   6.0  3.0  4.0  200.0   79.0  -4.5  1022.6 -19.5   \n",
      "2013-03-01T06:00:00Z    5.0  10.0  3.0  4.0  200.0   77.0  -4.5  1023.4 -19.5   \n",
      "2013-03-01T07:00:00Z    5.0   6.0  3.0  2.0  200.0   80.0  -2.1  1024.6 -20.0   \n",
      "2013-03-01T08:00:00Z    8.0   7.0  3.0  3.0  200.0   79.0  -0.2  1025.2 -20.5   \n",
      "...                     ...   ...  ...  ...    ...    ...   ...     ...   ...   \n",
      "2017-02-28T19:00:00Z   11.0  11.0  2.0  2.0  200.0   99.0  11.7  1008.9 -13.3   \n",
      "2017-02-28T20:00:00Z   13.0  13.0  2.0  2.0  200.0  101.0  10.9  1009.0 -14.0   \n",
      "2017-02-28T21:00:00Z    9.0  14.0  2.0  2.0  200.0  102.0   9.5  1009.4 -13.0   \n",
      "2017-02-28T22:00:00Z   10.0  12.0  2.0  2.0  200.0   97.0   7.8  1009.6 -12.6   \n",
      "2017-02-28T23:00:00Z   13.0  16.0  4.0  9.0  500.0   74.0   7.0  1009.4 -12.2   \n",
      "\n",
      "                      RAIN   wd  WSPM   station  \n",
      "TimeStamp                                        \n",
      "2013-03-01T02:00:00Z   0.0  ENE   0.2  Dingling  \n",
      "2013-03-01T05:00:00Z   0.0  NNW   1.7  Dingling  \n",
      "2013-03-01T06:00:00Z   0.0  NNW   1.8  Dingling  \n",
      "2013-03-01T07:00:00Z   0.0   NW   2.5  Dingling  \n",
      "2013-03-01T08:00:00Z   0.0  NNW   2.8  Dingling  \n",
      "...                    ...  ...   ...       ...  \n",
      "2017-02-28T19:00:00Z   0.0  NNE   1.3  Dingling  \n",
      "2017-02-28T20:00:00Z   0.0    N   2.1  Dingling  \n",
      "2017-02-28T21:00:00Z   0.0    N   1.5  Dingling  \n",
      "2017-02-28T22:00:00Z   0.0   NW   1.4  Dingling  \n",
      "2017-02-28T23:00:00Z   0.0    N   1.9  Dingling  \n",
      "\n",
      "[31306 rows x 13 columns]\n"
     ]
    }
   ],
   "source": [
    "print(converted_ts)"
   ]
  },
  {
   "cell_type": "code",
   "execution_count": 151,
   "id": "9afe9887",
   "metadata": {},
   "outputs": [],
   "source": [
    "# Changing the column types to float\n",
    "ex_df = converted_ts.astype({\"PM2.5\": float64,\n",
    "                             \"PM10\": float64,\n",
    "                             \"SO2\": float64,\n",
    "                             \"NO2\": float64,\n",
    "                             \"CO\": float64,\n",
    "                             \"O3\": float64,\n",
    "                             \"TEMP\": float64,\n",
    "                             \"PRES\": float64,\n",
    "                             \"DEWP\": float64,\n",
    "                             \"RAIN\": float64,\n",
    "                             \"WSPM\": float64})"
   ]
  },
  {
   "cell_type": "code",
   "execution_count": 152,
   "id": "dc8ef7fc",
   "metadata": {},
   "outputs": [],
   "source": [
    "# Defining tag fields\n",
    "datatags = ['station', 'wd']"
   ]
  },
  {
   "cell_type": "code",
   "execution_count": 153,
   "id": "0b091dc2",
   "metadata": {},
   "outputs": [],
   "source": [
    "#Setting up Database (Connection string)\n",
    "client = influxdb_client.InfluxDBClient(\n",
    "    url='http://ec2-3-120-10-156.eu-central-1.compute.amazonaws.com:8086',\n",
    "    token='kp_gJV8Y7aOZB0odriHj1o_qWurQmxzBXpTU_kYY4JnQ88e9X1TI3ifFVA1pUyGZshZfTpeaTlTWgYAUESTMvw==',\n",
    "    org='my-org'\n",
    ")"
   ]
  },
  {
   "cell_type": "code",
   "execution_count": 154,
   "id": "681d47ab",
   "metadata": {},
   "outputs": [
    {
     "name": "stdout",
     "output_type": "stream",
     "text": [
      "None\n"
     ]
    }
   ],
   "source": [
    "# Writing the data with two tags\n",
    "write_api = client.write_api(write_options=SYNCHRONOUS)\n",
    "message = write_api.write(bucket='air-quality', org='my-org', record=ex_df,\n",
    "data_frame_measurement_name='full-tags', data_frame_tag_columns=['station', 'wd'])\n",
    "print(message)"
   ]
  },
  {
   "cell_type": "code",
   "execution_count": 155,
   "id": "cee71ad5",
   "metadata": {},
   "outputs": [],
   "source": [
    "# The asynchronous buffering API to Write time-series data into InfluxDB.\n",
    "# This API always buffers points/lines to create batches under the hood to optimize data \n",
    "# transfer to InfluxDB server, flush is used to send the buffered data to InfluxDB immediately.\n",
    "# I use flush() after each write as I was getting a \"time out error message\"\n",
    "write_api.flush()"
   ]
  },
  {
   "cell_type": "code",
   "execution_count": 156,
   "id": "4a62bbce",
   "metadata": {},
   "outputs": [
    {
     "name": "stdout",
     "output_type": "stream",
     "text": [
      "Errors detected writing data to InfluxDB:  None\n"
     ]
    }
   ],
   "source": [
    "# Writing the data only with one tag\n",
    "write_api = client.write_api(write_options=SYNCHRONOUS)\n",
    "message = write_api.write(bucket='air-quality', org='my-org', record=ex_df,\n",
    "data_frame_measurement_name='location-tag-only', data_frame_tag_columns=['station'])\n",
    "print('Errors detected writing data to InfluxDB: ', message)"
   ]
  },
  {
   "cell_type": "code",
   "execution_count": 157,
   "id": "9b91de3a",
   "metadata": {},
   "outputs": [],
   "source": [
    "write_api.flush()"
   ]
  },
  {
   "cell_type": "code",
   "execution_count": null,
   "id": "e3961e0c",
   "metadata": {},
   "outputs": [],
   "source": []
  },
  {
   "cell_type": "code",
   "execution_count": null,
   "id": "2749b2b9",
   "metadata": {},
   "outputs": [],
   "source": []
  }
 ],
 "metadata": {
  "kernelspec": {
   "display_name": "Python 3 (ipykernel)",
   "language": "python",
   "name": "python3"
  },
  "language_info": {
   "codemirror_mode": {
    "name": "ipython",
    "version": 3
   },
   "file_extension": ".py",
   "mimetype": "text/x-python",
   "name": "python",
   "nbconvert_exporter": "python",
   "pygments_lexer": "ipython3",
   "version": "3.8.12"
  },
  "toc": {
   "base_numbering": 1,
   "nav_menu": {},
   "number_sections": false,
   "sideBar": true,
   "skip_h1_title": false,
   "title_cell": "Table of Contents",
   "title_sidebar": "Contents",
   "toc_cell": false,
   "toc_position": {},
   "toc_section_display": true,
   "toc_window_display": false
  }
 },
 "nbformat": 4,
 "nbformat_minor": 5
}
