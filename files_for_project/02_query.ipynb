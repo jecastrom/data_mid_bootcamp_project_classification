{
 "cells": [
  {
   "cell_type": "markdown",
   "id": "bc7523b3",
   "metadata": {},
   "source": [
    "# Querying the data from InfluxDB using Python"
   ]
  },
  {
   "cell_type": "code",
   "execution_count": 6,
   "id": "5242d634",
   "metadata": {},
   "outputs": [],
   "source": [
    "import pandas as pd\n",
    "import influxdb_client\n",
    "from influxdb_client.client.write_api import SYNCHRONOUS\n",
    "import influxdb_client.client.influxdb_client\n"
   ]
  },
  {
   "cell_type": "code",
   "execution_count": 7,
   "id": "8e6c6e14",
   "metadata": {},
   "outputs": [],
   "source": [
    "#Setting up Database (Connection string)\n",
    "client = influxdb_client.InfluxDBClient(\n",
    "    url='http://ec2-3-120-10-156.eu-central-1.compute.amazonaws.com:8086',\n",
    "    token='kp_gJV8Y7aOZB0odriHj1o_qWurQmxzBXpTU_kYY4JnQ88e9X1TI3ifFVA1pUyGZshZfTpeaTlTWgYAUESTMvw==',\n",
    "    org='my-org'\n",
    ")"
   ]
  },
  {
   "cell_type": "code",
   "execution_count": 8,
   "id": "23e0cc4b",
   "metadata": {},
   "outputs": [],
   "source": [
    "# Instantiating the query client\n",
    "queryAPI = client.query_api()"
   ]
  },
  {
   "cell_type": "code",
   "execution_count": 9,
   "id": "89b0bafd",
   "metadata": {},
   "outputs": [],
   "source": [
    "#create flux query (Flux is the InfluxDB query language)\n",
    "myquery_location = 'from(bucket: \"air-quality\") |> range(start: 2013-03-25T00:00:00Z, stop: 2013-05-01T00:00:00Z)' \\\n",
    "            '|> filter(fn: (r) => r[\"_measurement\"] == \"location-tag-only\")' \\\n",
    "            '|> filter(fn: (r) => r[\"_field\"] == \"TEMP\")' "
   ]
  },
  {
   "cell_type": "code",
   "execution_count": 10,
   "id": "20e34915",
   "metadata": {},
   "outputs": [],
   "source": [
    "# Creating a DataFrame with the data I am querying\n",
    "location_df = queryAPI.query_data_frame( query= myquery_location)"
   ]
  },
  {
   "cell_type": "code",
   "execution_count": 11,
   "id": "00aedfa0",
   "metadata": {},
   "outputs": [
    {
     "name": "stdout",
     "output_type": "stream",
     "text": [
      "<class 'pandas.core.frame.DataFrame'>\n",
      "Int64Index: 2383 entries, 0 to 2382\n",
      "Data columns (total 9 columns):\n",
      " #   Column        Non-Null Count  Dtype                  \n",
      "---  ------        --------------  -----                  \n",
      " 0   result        2383 non-null   object                 \n",
      " 1   table         2383 non-null   int64                  \n",
      " 2   _start        2383 non-null   datetime64[ns, tzutc()]\n",
      " 3   _stop         2383 non-null   datetime64[ns, tzutc()]\n",
      " 4   _time         2383 non-null   datetime64[ns, tzutc()]\n",
      " 5   _value        2383 non-null   float64                \n",
      " 6   _field        2383 non-null   object                 \n",
      " 7   _measurement  2383 non-null   object                 \n",
      " 8   station       2383 non-null   object                 \n",
      "dtypes: datetime64[ns, tzutc()](3), float64(1), int64(1), object(4)\n",
      "memory usage: 186.2+ KB\n",
      "None\n"
     ]
    }
   ],
   "source": [
    "print(location_df.info())"
   ]
  },
  {
   "cell_type": "code",
   "execution_count": 12,
   "id": "812b1865",
   "metadata": {},
   "outputs": [
    {
     "name": "stdout",
     "output_type": "stream",
     "text": [
      "       result  table                    _start                     _stop  \\\n",
      "0     _result      0 2013-03-25 00:00:00+00:00 2013-05-01 00:00:00+00:00   \n",
      "1     _result      0 2013-03-25 00:00:00+00:00 2013-05-01 00:00:00+00:00   \n",
      "2     _result      0 2013-03-25 00:00:00+00:00 2013-05-01 00:00:00+00:00   \n",
      "3     _result      0 2013-03-25 00:00:00+00:00 2013-05-01 00:00:00+00:00   \n",
      "4     _result      0 2013-03-25 00:00:00+00:00 2013-05-01 00:00:00+00:00   \n",
      "...       ...    ...                       ...                       ...   \n",
      "2378  _result      2 2013-03-25 00:00:00+00:00 2013-05-01 00:00:00+00:00   \n",
      "2379  _result      2 2013-03-25 00:00:00+00:00 2013-05-01 00:00:00+00:00   \n",
      "2380  _result      2 2013-03-25 00:00:00+00:00 2013-05-01 00:00:00+00:00   \n",
      "2381  _result      2 2013-03-25 00:00:00+00:00 2013-05-01 00:00:00+00:00   \n",
      "2382  _result      2 2013-03-25 00:00:00+00:00 2013-05-01 00:00:00+00:00   \n",
      "\n",
      "                         _time  _value _field       _measurement       station  \n",
      "0    2013-03-25 16:00:00+00:00    10.3   TEMP  location-tag-only  Aotizhongxin  \n",
      "1    2013-03-25 17:00:00+00:00     9.8   TEMP  location-tag-only  Aotizhongxin  \n",
      "2    2013-03-25 18:00:00+00:00     9.2   TEMP  location-tag-only  Aotizhongxin  \n",
      "3    2013-03-25 19:00:00+00:00     8.9   TEMP  location-tag-only  Aotizhongxin  \n",
      "4    2013-03-25 20:00:00+00:00     8.5   TEMP  location-tag-only  Aotizhongxin  \n",
      "...                        ...     ...    ...                ...           ...  \n",
      "2378 2013-04-30 09:00:00+00:00    24.2   TEMP  location-tag-only      Dingling  \n",
      "2379 2013-04-30 10:00:00+00:00    26.2   TEMP  location-tag-only      Dingling  \n",
      "2380 2013-04-30 11:00:00+00:00    27.0   TEMP  location-tag-only      Dingling  \n",
      "2381 2013-04-30 16:00:00+00:00    28.9   TEMP  location-tag-only      Dingling  \n",
      "2382 2013-04-30 17:00:00+00:00    27.9   TEMP  location-tag-only      Dingling  \n",
      "\n",
      "[2383 rows x 9 columns]\n"
     ]
    }
   ],
   "source": [
    "print(location_df)"
   ]
  },
  {
   "cell_type": "code",
   "execution_count": 13,
   "id": "3e3abf19",
   "metadata": {},
   "outputs": [],
   "source": [
    "myquery_everything = 'from(bucket: \"air-quality\") |> range(start: 2013-03-25T00:00:00Z, stop: 2013-05-01T00:00:00Z)' \\\n",
    "            '|> filter(fn: (r) => r[\"_measurement\"] == \"full-tags\")' \\\n",
    "            '|> filter(fn: (r) => r[\"_field\"] == \"TEMP\")' "
   ]
  },
  {
   "cell_type": "code",
   "execution_count": 14,
   "id": "b875569f",
   "metadata": {},
   "outputs": [],
   "source": [
    "everything_df = queryAPI.query_data_frame( query= myquery_everything)"
   ]
  },
  {
   "cell_type": "code",
   "execution_count": 15,
   "id": "0f80c102",
   "metadata": {},
   "outputs": [
    {
     "name": "stdout",
     "output_type": "stream",
     "text": [
      "       result  table                    _start                     _stop  \\\n",
      "0     _result      0 2013-03-25 00:00:00+00:00 2013-05-01 00:00:00+00:00   \n",
      "1     _result      0 2013-03-25 00:00:00+00:00 2013-05-01 00:00:00+00:00   \n",
      "2     _result      0 2013-03-25 00:00:00+00:00 2013-05-01 00:00:00+00:00   \n",
      "3     _result      0 2013-03-25 00:00:00+00:00 2013-05-01 00:00:00+00:00   \n",
      "4     _result      0 2013-03-25 00:00:00+00:00 2013-05-01 00:00:00+00:00   \n",
      "...       ...    ...                       ...                       ...   \n",
      "2378  _result     47 2013-03-25 00:00:00+00:00 2013-05-01 00:00:00+00:00   \n",
      "2379  _result     47 2013-03-25 00:00:00+00:00 2013-05-01 00:00:00+00:00   \n",
      "2380  _result     47 2013-03-25 00:00:00+00:00 2013-05-01 00:00:00+00:00   \n",
      "2381  _result     47 2013-03-25 00:00:00+00:00 2013-05-01 00:00:00+00:00   \n",
      "2382  _result     47 2013-03-25 00:00:00+00:00 2013-05-01 00:00:00+00:00   \n",
      "\n",
      "                         _time  _value _field _measurement       station   wd  \n",
      "0    2013-03-28 06:00:00+00:00     4.6   TEMP    full-tags  Aotizhongxin    E  \n",
      "1    2013-03-29 08:00:00+00:00     6.5   TEMP    full-tags  Aotizhongxin    E  \n",
      "2    2013-03-29 12:00:00+00:00     9.1   TEMP    full-tags  Aotizhongxin    E  \n",
      "3    2013-03-30 00:00:00+00:00     4.3   TEMP    full-tags  Aotizhongxin    E  \n",
      "4    2013-03-30 04:00:00+00:00     2.5   TEMP    full-tags  Aotizhongxin    E  \n",
      "...                        ...     ...    ...          ...           ...  ...  \n",
      "2378 2013-04-23 17:00:00+00:00    14.2   TEMP    full-tags      Dingling  WSW  \n",
      "2379 2013-04-24 05:00:00+00:00     6.1   TEMP    full-tags      Dingling  WSW  \n",
      "2380 2013-04-24 10:00:00+00:00    20.9   TEMP    full-tags      Dingling  WSW  \n",
      "2381 2013-04-28 01:00:00+00:00    14.8   TEMP    full-tags      Dingling  WSW  \n",
      "2382 2013-04-29 04:00:00+00:00    15.5   TEMP    full-tags      Dingling  WSW  \n",
      "\n",
      "[2383 rows x 10 columns]\n"
     ]
    }
   ],
   "source": [
    "print(everything_df)"
   ]
  },
  {
   "cell_type": "code",
   "execution_count": 16,
   "id": "f4c89aea",
   "metadata": {},
   "outputs": [
    {
     "data": {
      "text/html": [
       "<div>\n",
       "<style scoped>\n",
       "    .dataframe tbody tr th:only-of-type {\n",
       "        vertical-align: middle;\n",
       "    }\n",
       "\n",
       "    .dataframe tbody tr th {\n",
       "        vertical-align: top;\n",
       "    }\n",
       "\n",
       "    .dataframe thead th {\n",
       "        text-align: right;\n",
       "    }\n",
       "</style>\n",
       "<table border=\"1\" class=\"dataframe\">\n",
       "  <thead>\n",
       "    <tr style=\"text-align: right;\">\n",
       "      <th></th>\n",
       "      <th>result</th>\n",
       "      <th>table</th>\n",
       "      <th>_start</th>\n",
       "      <th>_stop</th>\n",
       "      <th>_time</th>\n",
       "      <th>_value</th>\n",
       "      <th>_field</th>\n",
       "      <th>_measurement</th>\n",
       "      <th>station</th>\n",
       "    </tr>\n",
       "  </thead>\n",
       "  <tbody>\n",
       "    <tr>\n",
       "      <th>0</th>\n",
       "      <td>_result</td>\n",
       "      <td>0</td>\n",
       "      <td>2013-03-25 00:00:00+00:00</td>\n",
       "      <td>2013-05-01 00:00:00+00:00</td>\n",
       "      <td>2013-03-25 16:00:00+00:00</td>\n",
       "      <td>10.3</td>\n",
       "      <td>TEMP</td>\n",
       "      <td>location-tag-only</td>\n",
       "      <td>Aotizhongxin</td>\n",
       "    </tr>\n",
       "    <tr>\n",
       "      <th>1</th>\n",
       "      <td>_result</td>\n",
       "      <td>0</td>\n",
       "      <td>2013-03-25 00:00:00+00:00</td>\n",
       "      <td>2013-05-01 00:00:00+00:00</td>\n",
       "      <td>2013-03-25 17:00:00+00:00</td>\n",
       "      <td>9.8</td>\n",
       "      <td>TEMP</td>\n",
       "      <td>location-tag-only</td>\n",
       "      <td>Aotizhongxin</td>\n",
       "    </tr>\n",
       "    <tr>\n",
       "      <th>2</th>\n",
       "      <td>_result</td>\n",
       "      <td>0</td>\n",
       "      <td>2013-03-25 00:00:00+00:00</td>\n",
       "      <td>2013-05-01 00:00:00+00:00</td>\n",
       "      <td>2013-03-25 18:00:00+00:00</td>\n",
       "      <td>9.2</td>\n",
       "      <td>TEMP</td>\n",
       "      <td>location-tag-only</td>\n",
       "      <td>Aotizhongxin</td>\n",
       "    </tr>\n",
       "    <tr>\n",
       "      <th>3</th>\n",
       "      <td>_result</td>\n",
       "      <td>0</td>\n",
       "      <td>2013-03-25 00:00:00+00:00</td>\n",
       "      <td>2013-05-01 00:00:00+00:00</td>\n",
       "      <td>2013-03-25 19:00:00+00:00</td>\n",
       "      <td>8.9</td>\n",
       "      <td>TEMP</td>\n",
       "      <td>location-tag-only</td>\n",
       "      <td>Aotizhongxin</td>\n",
       "    </tr>\n",
       "    <tr>\n",
       "      <th>4</th>\n",
       "      <td>_result</td>\n",
       "      <td>0</td>\n",
       "      <td>2013-03-25 00:00:00+00:00</td>\n",
       "      <td>2013-05-01 00:00:00+00:00</td>\n",
       "      <td>2013-03-25 20:00:00+00:00</td>\n",
       "      <td>8.5</td>\n",
       "      <td>TEMP</td>\n",
       "      <td>location-tag-only</td>\n",
       "      <td>Aotizhongxin</td>\n",
       "    </tr>\n",
       "  </tbody>\n",
       "</table>\n",
       "</div>"
      ],
      "text/plain": [
       "    result  table                    _start                     _stop  \\\n",
       "0  _result      0 2013-03-25 00:00:00+00:00 2013-05-01 00:00:00+00:00   \n",
       "1  _result      0 2013-03-25 00:00:00+00:00 2013-05-01 00:00:00+00:00   \n",
       "2  _result      0 2013-03-25 00:00:00+00:00 2013-05-01 00:00:00+00:00   \n",
       "3  _result      0 2013-03-25 00:00:00+00:00 2013-05-01 00:00:00+00:00   \n",
       "4  _result      0 2013-03-25 00:00:00+00:00 2013-05-01 00:00:00+00:00   \n",
       "\n",
       "                      _time  _value _field       _measurement       station  \n",
       "0 2013-03-25 16:00:00+00:00    10.3   TEMP  location-tag-only  Aotizhongxin  \n",
       "1 2013-03-25 17:00:00+00:00     9.8   TEMP  location-tag-only  Aotizhongxin  \n",
       "2 2013-03-25 18:00:00+00:00     9.2   TEMP  location-tag-only  Aotizhongxin  \n",
       "3 2013-03-25 19:00:00+00:00     8.9   TEMP  location-tag-only  Aotizhongxin  \n",
       "4 2013-03-25 20:00:00+00:00     8.5   TEMP  location-tag-only  Aotizhongxin  "
      ]
     },
     "execution_count": 16,
     "metadata": {},
     "output_type": "execute_result"
    }
   ],
   "source": [
    "location_df.head()"
   ]
  },
  {
   "cell_type": "code",
   "execution_count": null,
   "id": "a98f11d4",
   "metadata": {},
   "outputs": [],
   "source": []
  }
 ],
 "metadata": {
  "kernelspec": {
   "display_name": "Python 3 (ipykernel)",
   "language": "python",
   "name": "python3"
  },
  "language_info": {
   "codemirror_mode": {
    "name": "ipython",
    "version": 3
   },
   "file_extension": ".py",
   "mimetype": "text/x-python",
   "name": "python",
   "nbconvert_exporter": "python",
   "pygments_lexer": "ipython3",
   "version": "3.8.12"
  },
  "toc": {
   "base_numbering": 1,
   "nav_menu": {},
   "number_sections": false,
   "sideBar": true,
   "skip_h1_title": false,
   "title_cell": "Table of Contents",
   "title_sidebar": "Contents",
   "toc_cell": false,
   "toc_position": {},
   "toc_section_display": true,
   "toc_window_display": false
  }
 },
 "nbformat": 4,
 "nbformat_minor": 5
}
