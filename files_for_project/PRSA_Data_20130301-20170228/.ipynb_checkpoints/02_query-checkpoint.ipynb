{
 "cells": [
  {
   "cell_type": "markdown",
   "id": "191a38fe",
   "metadata": {},
   "source": [
    "# Querying the data from InfluxDB using Python"
   ]
  },
  {
   "cell_type": "code",
   "execution_count": 1,
   "id": "7c84c186",
   "metadata": {},
   "outputs": [],
   "source": [
    "import pandas as pd\n",
    "import influxdb_client\n",
    "from influxdb_client.client.write_api import SYNCHRONOUS\n",
    "import influxdb_client.client.influxdb_client\n"
   ]
  },
  {
   "cell_type": "code",
   "execution_count": null,
   "id": "11fadbc0",
   "metadata": {},
   "outputs": [],
   "source": [
    "#Setting up Database (Connection string)\n",
    "client = influxdb_client.InfluxDBClient(\n",
    "    url='ec2-35-157-40-78.eu-central-1.compute.amazonaws.com:8086',\n",
    "    token='z7o_5pRpzKhz6yv9eJezq575NsOfQJkzVukK8YfSkrqZ_B-RHZs1f2mYoOR67J6mKb_Wh_clzBuhz0AVTTW0Sg==',\n",
    "    org='my-org'\n",
    ")"
   ]
  },
  {
   "cell_type": "code",
   "execution_count": null,
   "id": "57acb09f",
   "metadata": {},
   "outputs": [],
   "source": [
    "# Instantiating the query client\n",
    "queryAPI = client.query_api()"
   ]
  },
  {
   "cell_type": "code",
   "execution_count": null,
   "id": "9e56cd5c",
   "metadata": {},
   "outputs": [],
   "source": [
    "#create flux query (Flux is the InfluxDB query language)\n",
    "myquery_location = 'from(bucket: \"air-quality\") |> range(start: 2013-03-25T00:00:00Z, stop: 2013-05-01T00:00:00Z)' \\\n",
    "            '|> filter(fn: (r) => r[\"_measurement\"] == \"location-tag-only\")' \\\n",
    "            '|> filter(fn: (r) => r[\"_field\"] == \"TEMP\")' "
   ]
  },
  {
   "cell_type": "code",
   "execution_count": null,
   "id": "34f4ffd0",
   "metadata": {},
   "outputs": [],
   "source": [
    "# Creating a DataFrame with the data I am querying\n",
    "location_df = queryAPI.query_data_frame( query= myquery_location)"
   ]
  },
  {
   "cell_type": "code",
   "execution_count": null,
   "id": "cd284c17",
   "metadata": {},
   "outputs": [],
   "source": [
    "print(location_df.info())"
   ]
  },
  {
   "cell_type": "code",
   "execution_count": null,
   "id": "122b42e6",
   "metadata": {},
   "outputs": [],
   "source": [
    "print(location_df)"
   ]
  },
  {
   "cell_type": "code",
   "execution_count": null,
   "id": "b3c1f96a",
   "metadata": {},
   "outputs": [],
   "source": [
    "myquery_everything = 'from(bucket: \"air-quality\") |> range(start: 2013-03-25T00:00:00Z, stop: 2013-05-01T00:00:00Z)' \\\n",
    "            '|> filter(fn: (r) => r[\"_measurement\"] == \"full-tags\")' \\\n",
    "            '|> filter(fn: (r) => r[\"_field\"] == \"TEMP\")' "
   ]
  },
  {
   "cell_type": "code",
   "execution_count": null,
   "id": "298c0e08",
   "metadata": {},
   "outputs": [],
   "source": [
    "everything_df = queryAPI.query_data_frame( query= myquery_everything)"
   ]
  },
  {
   "cell_type": "code",
   "execution_count": null,
   "id": "4ad40228",
   "metadata": {},
   "outputs": [],
   "source": [
    "print(everything_df)"
   ]
  }
 ],
 "metadata": {
  "kernelspec": {
   "display_name": "Python 3 (ipykernel)",
   "language": "python",
   "name": "python3"
  },
  "language_info": {
   "codemirror_mode": {
    "name": "ipython",
    "version": 3
   },
   "file_extension": ".py",
   "mimetype": "text/x-python",
   "name": "python",
   "nbconvert_exporter": "python",
   "pygments_lexer": "ipython3",
   "version": "3.8.12"
  },
  "toc": {
   "base_numbering": 1,
   "nav_menu": {},
   "number_sections": true,
   "sideBar": true,
   "skip_h1_title": false,
   "title_cell": "Table of Contents",
   "title_sidebar": "Contents",
   "toc_cell": false,
   "toc_position": {},
   "toc_section_display": true,
   "toc_window_display": false
  }
 },
 "nbformat": 4,
 "nbformat_minor": 5
}
