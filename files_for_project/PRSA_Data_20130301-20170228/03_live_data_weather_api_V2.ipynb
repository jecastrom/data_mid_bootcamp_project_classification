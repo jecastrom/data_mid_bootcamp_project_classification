{
 "cells": [
  {
   "cell_type": "markdown",
   "id": "86f4abc2",
   "metadata": {},
   "source": [
    "## Data Ingestion from the Weather API to InfluxDB on AWS EC2 instance"
   ]
  },
  {
   "cell_type": "markdown",
   "id": "d1664687",
   "metadata": {},
   "source": [
    "This are the steps we go through in this script:\n",
    "\n",
    "* To query the API with the \"request\" library as specified in the Weather API documentation https://www.weatherapi.com/docs/\n",
    "* Format the timestamp\n",
    "* \"Normalize\" or flatten in tabular form the json object with the json_normalize() function\n",
    "* Rename the columns\n",
    "* Filter out the columns we need on a DataFrame\n",
    "* Set up the connection string and call the API using the InfluxDB client https://docs.influxdata.com/influxdb/cloud/api-guide/client-libraries/python/  \n",
    "\n",
    "\n",
    "* Write the data into InfluxDB  \n",
    "\n",
    "https://www.influxdata.com/blog/writing-data-to-influxdb-with-python/  \n",
    "\n",
    "https://docs.influxdata.com/influxdb/cloud/api-guide/client-libraries/python/\n"
   ]
  },
  {
   "cell_type": "code",
   "execution_count": 40,
   "id": "215e294c",
   "metadata": {},
   "outputs": [],
   "source": [
    "from numpy import float64, int32, string_\n",
    "import requests\n",
    "import json\n",
    "import pandas as pd\n",
    "from pandas import json_normalize\n",
    "import datetime as dt"
   ]
  },
  {
   "cell_type": "code",
   "execution_count": 41,
   "id": "e03a8621",
   "metadata": {},
   "outputs": [],
   "source": [
    "# Import the influxdb API client\n",
    "import influxdb_client\n",
    "from influxdb_client.client.write_api import SYNCHRONOUS"
   ]
  },
  {
   "cell_type": "code",
   "execution_count": 42,
   "id": "c929f355",
   "metadata": {},
   "outputs": [],
   "source": [
    "# load the configuration from the json file (Having the API key on a separate file, we are not \n",
    "# exposing the key on the code publicly)\n",
    "with open(\"api_config.json\") as json_data_file:\n",
    "    config = json.load(json_data_file)"
   ]
  },
  {
   "cell_type": "code",
   "execution_count": 43,
   "id": "11143c8a",
   "metadata": {},
   "outputs": [],
   "source": [
    "# The Payload of an API Module is the body of your request and response message. It contains the data that \n",
    "# you send to the server when you make an API request. You can send and receive Payload in \n",
    "# different formats, for instance JSON.\n",
    "\n",
    "# Here we can send the variable \"Key\" which contains the API key being read from the json file\n",
    "# The \"q\" is a query parameter of the API based on the location\n",
    "# \"aqi\" is a parameter to enable or desable to receive air quality data in forecast API output\n",
    "# In the API documentation we obtain and compose the url to request the \"current json\" using the \"request\" library\n",
    "payload = {'Key': config['Key'], 'q': 'Berlin', 'aqi': 'yes'}\n",
    "r = requests.get(\"http://api.weatherapi.com/v1/current.json\", params=payload)"
   ]
  },
  {
   "cell_type": "code",
   "execution_count": 44,
   "id": "582dd10f",
   "metadata": {},
   "outputs": [
    {
     "name": "stdout",
     "output_type": "stream",
     "text": [
      "{'location': {'name': 'Berlin', 'region': 'Berlin', 'country': 'Germany', 'lat': 52.52, 'lon': 13.4, 'tz_id': 'Europe/Berlin', 'localtime_epoch': 1646278785, 'localtime': '2022-03-03 4:39'}, 'current': {'last_updated_epoch': 1646278200, 'last_updated': '2022-03-03 04:30', 'temp_c': -3.0, 'temp_f': 26.6, 'is_day': 0, 'condition': {'text': 'Clear', 'icon': '//cdn.weatherapi.com/weather/64x64/night/113.png', 'code': 1000}, 'wind_mph': 2.5, 'wind_kph': 4.0, 'wind_degree': 270, 'wind_dir': 'W', 'pressure_mb': 1021.0, 'pressure_in': 30.15, 'precip_mm': 0.0, 'precip_in': 0.0, 'humidity': 80, 'cloud': 0, 'feelslike_c': -5.2, 'feelslike_f': 22.7, 'vis_km': 10.0, 'vis_miles': 6.0, 'uv': 1.0, 'gust_mph': 6.3, 'gust_kph': 10.1, 'air_quality': {'co': 454.0, 'no2': 32.20000076293945, 'o3': 0.10000000149011612, 'so2': 6.699999809265137, 'pm2_5': 30.299999237060547, 'pm10': 36.0, 'us-epa-index': 2, 'gb-defra-index': 3}}}\n"
     ]
    }
   ],
   "source": [
    "# Here we create an object called r_string with the request and apply the .json() function to create \n",
    "# the json file. If the responce is not written in json format, it would give us an error message.\n",
    "r_string = r.json()\n",
    "print(r_string)"
   ]
  },
  {
   "cell_type": "code",
   "execution_count": 45,
   "id": "212bdd38",
   "metadata": {},
   "outputs": [],
   "source": [
    "# In the previous cell, we can see the responce, we obtain a json file with nested fields. So for us to \n",
    "# deal effectibly with this data, it is best to deal with a table layout, where we can have column names. \n",
    "# So we normalize the nested json with the json_normalize() function. To \"normalize\" in this context is to convert \n",
    "# the nested json or this  semi-structured JSON data into tabular data, a flat table\n",
    "normalized = json_normalize(r_string)"
   ]
  },
  {
   "cell_type": "code",
   "execution_count": 46,
   "id": "4e04830c",
   "metadata": {},
   "outputs": [],
   "source": [
    "# Adding a new column 'TimeStamp'\n",
    "# Transforming the time from \"localtime_epoch\" to YYYY-MM-DDTHH:MM:SS format\n",
    "# From Weather API we only get time in \"local\" time format, not in UTC time format. This is the \n",
    "# reason why we have to have this timestamp format \n",
    "# with +02.00 which is very important (for Berlin) \n",
    "# otherwise TS will be in UTC and therefore in the future -> it will not get shown on the board\n",
    "normalized['TimeStamp'] = normalized['location.localtime_epoch'].apply(lambda s : dt.datetime.fromtimestamp(s).strftime('%Y-%m-%dT%H:%M:%S+02:00'))"
   ]
  },
  {
   "cell_type": "code",
   "execution_count": 47,
   "id": "b840f71f",
   "metadata": {},
   "outputs": [
    {
     "name": "stdout",
     "output_type": "stream",
     "text": [
      "  location  region location.country  location.lat  location.lon  \\\n",
      "0   Berlin  Berlin          Germany         52.52          13.4   \n",
      "\n",
      "  location.tz_id  location.localtime_epoch location.localtime  \\\n",
      "0  Europe/Berlin                1646278785    2022-03-03 4:39   \n",
      "\n",
      "   current.last_updated_epoch current.last_updated  ...  current.gust_kph  \\\n",
      "0                  1646278200     2022-03-03 04:30  ...              10.1   \n",
      "\n",
      "      CO        NO2   O3  SO2      PM2_5  PM10  \\\n",
      "0  454.0  32.200001  0.1  6.7  30.299999  36.0   \n",
      "\n",
      "   current.air_quality.us-epa-index  current.air_quality.gb-defra-index  \\\n",
      "0                                 2                                   3   \n",
      "\n",
      "                   TimeStamp  \n",
      "0  2022-03-03T04:39:45+02:00  \n",
      "\n",
      "[1 rows x 42 columns]\n",
      "location                               object\n",
      "region                                 object\n",
      "location.country                       object\n",
      "location.lat                          float64\n",
      "location.lon                          float64\n",
      "location.tz_id                         object\n",
      "location.localtime_epoch                int64\n",
      "location.localtime                     object\n",
      "current.last_updated_epoch              int64\n",
      "current.last_updated                   object\n",
      "temp_c                                float64\n",
      "current.temp_f                        float64\n",
      "current.is_day                          int64\n",
      "current.condition.text                 object\n",
      "current.condition.icon                 object\n",
      "current.condition.code                  int64\n",
      "current.wind_mph                      float64\n",
      "wind_kph                              float64\n",
      "current.wind_degree                     int64\n",
      "current.wind_dir                       object\n",
      "PRES                                  float64\n",
      "current.pressure_in                   float64\n",
      "RAIN                                  float64\n",
      "current.precip_in                     float64\n",
      "HUMID                                   int64\n",
      "current.cloud                           int64\n",
      "current.feelslike_c                   float64\n",
      "current.feelslike_f                   float64\n",
      "current.vis_km                        float64\n",
      "current.vis_miles                     float64\n",
      "current.uv                            float64\n",
      "current.gust_mph                      float64\n",
      "current.gust_kph                      float64\n",
      "CO                                    float64\n",
      "NO2                                   float64\n",
      "O3                                    float64\n",
      "SO2                                   float64\n",
      "PM2_5                                 float64\n",
      "PM10                                  float64\n",
      "current.air_quality.us-epa-index        int64\n",
      "current.air_quality.gb-defra-index      int64\n",
      "TimeStamp                              object\n",
      "dtype: object\n"
     ]
    }
   ],
   "source": [
    "# after the json \"normalization\" we have to rename the columns with names meaninful to us.\n",
    "normalized.rename(columns={'location.name': 'location', 'location.region': 'region', 'current.temp_c': 'temp_c',\n",
    "'current.wind_kph': 'wind_kph', 'current.pressure_mb': 'PRES', 'current.precip_mm': 'RAIN', 'current.humidity': 'HUMID',\n",
    "'current.air_quality.pm2_5': 'PM2_5', 'current.air_quality.pm10': 'PM10', 'current.air_quality.so2': 'SO2',\n",
    "'current.air_quality.no2': 'NO2', 'current.air_quality.co': 'CO', 'current.air_quality.o3': 'O3'\n",
    "        \n",
    "      }, inplace=True)     \n",
    "print(normalized)\n",
    "print(normalized.dtypes)"
   ]
  },
  {
   "cell_type": "code",
   "execution_count": 48,
   "id": "c30e508e",
   "metadata": {},
   "outputs": [],
   "source": [
    "# Here again, we must set the timestamp as the index as its the norm for our time series database \n",
    "normalized.set_index('TimeStamp', inplace = True)"
   ]
  },
  {
   "cell_type": "code",
   "execution_count": 49,
   "id": "a8099482",
   "metadata": {},
   "outputs": [],
   "source": [
    "# Defining tag fields\n",
    "datatags = ['location']"
   ]
  },
  {
   "cell_type": "code",
   "execution_count": 50,
   "id": "5db3d921",
   "metadata": {},
   "outputs": [
    {
     "name": "stdout",
     "output_type": "stream",
     "text": [
      "                          location  temp_c  wind_kph    PRES  RAIN  HUMID  \\\n",
      "TimeStamp                                                                   \n",
      "2022-03-03T04:39:45+02:00   Berlin    -3.0       4.0  1021.0   0.0     80   \n",
      "\n",
      "                               PM2_5  PM10  SO2        NO2     CO   O3  \n",
      "TimeStamp                                                               \n",
      "2022-03-03T04:39:45+02:00  30.299999  36.0  6.7  32.200001  454.0  0.1  \n",
      "location     object\n",
      "temp_c      float64\n",
      "wind_kph    float64\n",
      "PRES        float64\n",
      "RAIN        float64\n",
      "HUMID         int64\n",
      "PM2_5       float64\n",
      "PM10        float64\n",
      "SO2         float64\n",
      "NO2         float64\n",
      "CO          float64\n",
      "O3          float64\n",
      "dtype: object\n"
     ]
    }
   ],
   "source": [
    "# The ex_df is the final DataFrame to export or to write into the database\n",
    "# Also we filter out just the columns that we are going to export, in our case, temp and wind for export. \n",
    "# So we select only the data we need from the whole bunch of data that we fetched from the API response.\n",
    "ex_df = normalized.filter(['location','temp_c','wind_kph','PRES','RAIN','HUMID','PM2_5','PM10','SO2','NO2','CO','O3'])      \n",
    "\n",
    "print(ex_df)\n",
    "print(ex_df.dtypes)"
   ]
  },
  {
   "cell_type": "code",
   "execution_count": 51,
   "id": "a5040bcc",
   "metadata": {},
   "outputs": [],
   "source": [
    "#Setting up Database (Connection string) using the InfluxDB client\n",
    "client = influxdb_client.InfluxDBClient(\n",
    "    url='http://ec2-3-120-10-156.eu-central-1.compute.amazonaws.com',\n",
    "    token='kp_gJV8Y7aOZB0odriHj1o_qWurQmxzBXpTU_kYY4JnQ88e9X1TI3ifFVA1pUyGZshZfTpeaTlTWgYAUESTMvw==',\n",
    "    org='my-org'\n",
    ")"
   ]
  },
  {
   "cell_type": "code",
   "execution_count": 52,
   "id": "59ef9856",
   "metadata": {},
   "outputs": [
    {
     "name": "stdout",
     "output_type": "stream",
     "text": [
      "None\n"
     ]
    }
   ],
   "source": [
    "#write the data to the database InfluxDB into measurement\n",
    "write_api = client.write_api(write_options=SYNCHRONOUS)\n",
    "message = write_api.write(bucket='live_weather',org='my-org',record = ex_df, data_frame_measurement_name = 'location-only',data_frame_tag_columns=['location'])\n",
    "write_api.flush()\n",
    "print('Errors detected writing data to InfluxDB: ', message)"
   ]
  },
  {
   "cell_type": "code",
   "execution_count": null,
   "id": "30628d12",
   "metadata": {},
   "outputs": [],
   "source": []
  }
 ],
 "metadata": {
  "kernelspec": {
   "display_name": "Python 3 (ipykernel)",
   "language": "python",
   "name": "python3"
  },
  "language_info": {
   "codemirror_mode": {
    "name": "ipython",
    "version": 3
   },
   "file_extension": ".py",
   "mimetype": "text/x-python",
   "name": "python",
   "nbconvert_exporter": "python",
   "pygments_lexer": "ipython3",
   "version": "3.8.12"
  },
  "toc": {
   "base_numbering": 1,
   "nav_menu": {},
   "number_sections": false,
   "sideBar": true,
   "skip_h1_title": false,
   "title_cell": "Table of Contents",
   "title_sidebar": "Contents",
   "toc_cell": false,
   "toc_position": {},
   "toc_section_display": true,
   "toc_window_display": false
  }
 },
 "nbformat": 4,
 "nbformat_minor": 5
}
